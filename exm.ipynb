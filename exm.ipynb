{
 "cells": [
  {
   "cell_type": "markdown",
   "id": "d05c9657",
   "metadata": {},
   "source": [
    "# Balance Sheet"
   ]
  },
  {
   "cell_type": "code",
   "execution_count": 13,
   "id": "8c23ae66",
   "metadata": {},
   "outputs": [
    {
     "name": "stdout",
     "output_type": "stream",
     "text": [
      "الميزانية العمومية\n"
     ]
    }
   ],
   "source": [
    "import pandas as pd\n",
    "\n",
    "# إنشاء DataFrame للميزانية العمومية\n",
    "balance_sheet = pd.DataFrame({\n",
    "    \"الأصول\": [\"النقدية والودائع في البنك المركزي\", \"القروض الممنوحة\", \"الأوراق المالية\", \"الأصول الثابتة\", \"إجمالي الأصول\"],\n",
    "    \"القيمة (مليون)\": [500, 2000, 300, 100, 2900],\n",
    "    \"الخصوم\": [\"الودائع الزمنية والجارية\", \"القروض من البنوك الأخرى\", \"التزامات أخرى\", \"إجمالي الخصوم\", \"\"],\n",
    "    \"القيمة (مليون)\": [1500, 800, 200, 2500, \"\"],\n",
    "    \"حقوق المساهمين\": [\"رأس المال\", \"الأرباح المحتجزة\", \"إجمالي حقوق المساهمين\", \"\", \"\"],\n",
    "    \"القيمة (مليون)\": [300, 100, 400, \"\", \"\"]\n",
    "})\n",
    "\n",
    "print(\"الميزانية العمومية\")\n",
    "balance_sheet.to_csv('balance_sheet.csv')\n"
   ]
  },
  {
   "cell_type": "markdown",
   "id": "5e4f5d13",
   "metadata": {},
   "source": [
    "# Income Statement"
   ]
  },
  {
   "cell_type": "code",
   "execution_count": 14,
   "id": "23157fdb",
   "metadata": {},
   "outputs": [
    {
     "name": "stdout",
     "output_type": "stream",
     "text": [
      "\n",
      "قائمة الدخل\n"
     ]
    }
   ],
   "source": [
    "income_statement = pd.DataFrame({\n",
    "    \"البند\": [\"الإيرادات الفوائد\", \"عمولات الخدمات\", \"إجمالي الإيرادات\", \"فوائد الودائع\", \"رواتب الموظفين\", \"مخصصات القروض المتعثرة\", \"إجمالي المصروفات\", \"صافي الربح قبل الضرائب\", \"الضرائب\", \"صافي الربح\"],\n",
    "    \"القيمة (مليون)\": [400, 100, 500, 200, 50, 50, 300, 200, 50, 150]\n",
    "})\n",
    "\n",
    "print(\"\\nقائمة الدخل\")\n",
    "income_statement.to_csv('income_statement.csv')"
   ]
  },
  {
   "cell_type": "markdown",
   "id": "4b3b6160",
   "metadata": {},
   "source": [
    "# Cash Flow Statement"
   ]
  },
  {
   "cell_type": "code",
   "execution_count": 15,
   "id": "7e84b3c6",
   "metadata": {},
   "outputs": [
    {
     "name": "stdout",
     "output_type": "stream",
     "text": [
      "\n",
      "قائمة التدفقات النقدية\n"
     ]
    }
   ],
   "source": [
    "cash_flow = pd.DataFrame({\n",
    "    \"النشاط\": [\"التشغيل\", \"الاستثمار\", \"التمويل\"],\n",
    "    \"التفاصيل\": [\n",
    "        \"تحصيل فوائد القروض، تحصيل العمولات\",\n",
    "        \"شراء أوراق مالية، بيع أصول ثابتة\",\n",
    "        \"إصدار سندات، سداد قروض\"\n",
    "    ],\n",
    "    \"التدفق الداخل (مليون)\": [300, -150, 200],\n",
    "    \"التدفق الخارج (مليون)\": [-200, -50, -100],\n",
    "    \"صافي التدفق (مليون)\": [100, -200, 100]\n",
    "})\n",
    "\n",
    "print(\"\\nقائمة التدفقات النقدية\")\n",
    "cash_flow.to_csv('cash_flow.csv')"
   ]
  },
  {
   "cell_type": "markdown",
   "id": "8ec8dba2",
   "metadata": {},
   "source": [
    "# Equity Statement"
   ]
  },
  {
   "cell_type": "code",
   "execution_count": 16,
   "id": "b2c25d62",
   "metadata": {},
   "outputs": [
    {
     "name": "stdout",
     "output_type": "stream",
     "text": [
      "\n",
      "قائمة التغيرات في حقوق المساهمين\n"
     ]
    }
   ],
   "source": [
    "equity_statement = pd.DataFrame({\n",
    "    \"البند\": [\"رصيد أول الفترة\", \"زيادة رأس المال\", \"توزيعات أرباح\", \"صافي الربح\", \"رصيد نهاية الفترة\"],\n",
    "    \"رأس المال (مليون)\": [200, 50, 0, 0, 250],\n",
    "    \"الأرباح المحتجزة (مليون)\": [100, 0, -30, 150, 220],\n",
    "    \"الإجمالي (مليون)\": [300, 50, -30, 150, 470]\n",
    "})\n",
    "\n",
    "print(\"\\nقائمة التغيرات في حقوق المساهمين\")\n",
    "equity_statement.to_csv('equity_statement.csv')"
   ]
  },
  {
   "cell_type": "markdown",
   "id": "b110f02e",
   "metadata": {},
   "source": [
    "# Comprehensive Income"
   ]
  },
  {
   "cell_type": "code",
   "execution_count": 17,
   "id": "feee3c7c",
   "metadata": {},
   "outputs": [
    {
     "name": "stdout",
     "output_type": "stream",
     "text": [
      "\n",
      "قائمة الدخل الشامل\n"
     ]
    }
   ],
   "source": [
    "comprehensive_income = pd.DataFrame({\n",
    "    \"البند\": [\"صافي الربح\", \"أرباح غير محققة (استثمارات)\", \"فروق أسعار الصرف\", \"الدخل الشامل الإجمالي\"],\n",
    "    \"القيمة (مليون)\": [150, 20, -10, 160]\n",
    "})\n",
    "\n",
    "print(\"\\nقائمة الدخل الشامل\")\n",
    "comprehensive_income.to_csv('comprehensive_income.csv')"
   ]
  },
  {
   "cell_type": "markdown",
   "id": "aef337da",
   "metadata": {},
   "source": [
    "# Consolidated Statements"
   ]
  },
  {
   "cell_type": "code",
   "execution_count": 18,
   "id": "e45af7eb",
   "metadata": {},
   "outputs": [
    {
     "name": "stdout",
     "output_type": "stream",
     "text": [
      "\n",
      "البيانات المالية المجمعة\n"
     ]
    }
   ],
   "source": [
    "consolidated = pd.DataFrame({\n",
    "    \"البند\": [\"الإيرادات\", \"الأصول\", \"الخصوم\"],\n",
    "    \"البنك الأم (مليون)\": [500, 2900, 2500],\n",
    "    \"الفروع (مليون)\": [300, 1500, 1200],\n",
    "    \"الإجمالي (مليون)\": [800, 4400, 3700]\n",
    "})\n",
    "\n",
    "print(\"\\nالبيانات المالية المجمعة\")\n",
    "consolidated.to_csv('consolidated.csv')"
   ]
  },
  {
   "cell_type": "markdown",
   "id": "192ffbeb",
   "metadata": {},
   "source": [
    "# Notes to Financial Statements"
   ]
  },
  {
   "cell_type": "code",
   "execution_count": 19,
   "id": "cf81fe6a",
   "metadata": {},
   "outputs": [
    {
     "name": "stdout",
     "output_type": "stream",
     "text": [
      "\n",
      "إيضاحات البيانات المالية\n"
     ]
    }
   ],
   "source": [
    "notes = pd.DataFrame({\n",
    "    \"البند\": [\"السياسات المحاسبية\", \"مخاطر الائتمان\", \"الالتزامات القانونية\"],\n",
    "    \"التفاصيل\": [\n",
    "        \"طريقة القسط الثابت للإهلاك\",\n",
    "        \"نسبة القروض المتعثرة: 5%\",\n",
    "        \"لا توجد التزامات قانونية كبيرة\"\n",
    "    ]\n",
    "})\n",
    "\n",
    "print(\"\\nإيضاحات البيانات المالية\")\n",
    "notes.to_csv('notes.csv')"
   ]
  },
  {
   "cell_type": "code",
   "execution_count": null,
   "id": "a2a28138",
   "metadata": {},
   "outputs": [],
   "source": []
  },
  {
   "cell_type": "code",
   "execution_count": null,
   "id": "17e72cfb",
   "metadata": {},
   "outputs": [],
   "source": []
  },
  {
   "cell_type": "code",
   "execution_count": 22,
   "id": "92562c7b",
   "metadata": {},
   "outputs": [
    {
     "ename": "ObsoleteAttributeException",
     "evalue": "app.run_server has been replaced by app.run",
     "output_type": "error",
     "traceback": [
      "\u001b[31m---------------------------------------------------------------------------\u001b[39m",
      "\u001b[31mObsoleteAttributeException\u001b[39m                Traceback (most recent call last)",
      "\u001b[36mCell\u001b[39m\u001b[36m \u001b[39m\u001b[32mIn[22]\u001b[39m\u001b[32m, line 93\u001b[39m\n\u001b[32m     10\u001b[39m app.layout = html.Div([\n\u001b[32m     11\u001b[39m     html.H1(\u001b[33m\"\u001b[39m\u001b[33mالبيانات المالية للبنك\u001b[39m\u001b[33m\"\u001b[39m, style={\u001b[33m'\u001b[39m\u001b[33mtextAlign\u001b[39m\u001b[33m'\u001b[39m: \u001b[33m'\u001b[39m\u001b[33mcenter\u001b[39m\u001b[33m'\u001b[39m, \u001b[33m'\u001b[39m\u001b[33mcolor\u001b[39m\u001b[33m'\u001b[39m: \u001b[33m'\u001b[39m\u001b[33m#0074D9\u001b[39m\u001b[33m'\u001b[39m}),\n\u001b[32m     12\u001b[39m \n\u001b[32m   (...)\u001b[39m\u001b[32m     89\u001b[39m     \u001b[38;5;66;03m# ... يمكنك إضافة المزيد من الجداول بنفس الطريقة\u001b[39;00m\n\u001b[32m     90\u001b[39m ])\n\u001b[32m     92\u001b[39m \u001b[38;5;28;01mif\u001b[39;00m \u001b[34m__name__\u001b[39m == \u001b[33m'\u001b[39m\u001b[33m__main__\u001b[39m\u001b[33m'\u001b[39m:\n\u001b[32m---> \u001b[39m\u001b[32m93\u001b[39m     \u001b[43mapp\u001b[49m\u001b[43m.\u001b[49m\u001b[43mrun_server\u001b[49m(debug=\u001b[38;5;28;01mTrue\u001b[39;00m)\n",
      "\u001b[36mFile \u001b[39m\u001b[32m~/Desktop/git_lab/self_learning/N8N/n8n/lib/python3.11/site-packages/dash/_obsolete.py:22\u001b[39m, in \u001b[36mObsoleteChecker.__getattr__\u001b[39m\u001b[34m(self, name)\u001b[39m\n\u001b[32m     20\u001b[39m \u001b[38;5;28;01mif\u001b[39;00m name \u001b[38;5;129;01min\u001b[39;00m \u001b[38;5;28mself\u001b[39m._obsolete_attributes:\n\u001b[32m     21\u001b[39m     err = \u001b[38;5;28mself\u001b[39m._obsolete_attributes[name]\n\u001b[32m---> \u001b[39m\u001b[32m22\u001b[39m     \u001b[38;5;28;01mraise\u001b[39;00m err.exc(err.message)\n\u001b[32m     23\u001b[39m \u001b[38;5;28;01mreturn\u001b[39;00m \u001b[38;5;28mgetattr\u001b[39m(\u001b[38;5;28mself\u001b[39m.\u001b[34m__dict__\u001b[39m, name)\n",
      "\u001b[31mObsoleteAttributeException\u001b[39m: app.run_server has been replaced by app.run"
     ]
    }
   ],
   "source": [
    "import dash\n",
    "from dash import html, dcc, dash_table\n",
    "import pandas as pd\n",
    "\n",
    "# افترض أن الجداول جاهزة مسبقًا (table_1, table_2, ...)\n",
    "# مثال: table_1 = pd.DataFrame(...), table_2 = pd.DataFrame(...), إلخ.\n",
    "\n",
    "app = dash.Dash(__name__)\n",
    "\n",
    "app.layout = html.Div([\n",
    "    html.H1(\"البيانات المالية للبنك\", style={'textAlign': 'center', 'color': '#0074D9'}),\n",
    "    \n",
    "    # جدول 1: الميزانية العمومية\n",
    "    html.H3(\"الميزانية العمومية\"),\n",
    "    dash_table.DataTable(\n",
    "        id='balance_sheet',\n",
    "        columns=[{\"name\": col, \"id\": col} for col in balance_sheet.columns],\n",
    "        data=balance_sheet.to_dict('records'),\n",
    "        style_table={'overflowX': 'auto'},\n",
    "        style_cell={'textAlign': 'right', 'fontFamily': 'Arial', 'padding': '10px'}\n",
    "    ),\n",
    "    \n",
    "    html.Hr(),  # خط فاصل\n",
    "    \n",
    "    # جدول 2: قائمة الدخل\n",
    "    html.H3(\"قائمة الدخل\"),\n",
    "    dash_table.DataTable(\n",
    "        id='income_statement',\n",
    "        columns=[{\"name\": col, \"id\": col} for col in income_statement.columns],\n",
    "        data=income_statement.to_dict('records'),\n",
    "        style_table={'overflowX': 'auto'}\n",
    "    ),\n",
    "    \n",
    "    html.Hr(),\n",
    "    \n",
    "    # جدول 3: التدفقات النقدية\n",
    "    html.H3(\"قائمة التدفقات النقدية\"),\n",
    "    dash_table.DataTable(\n",
    "        id='cash_flow',\n",
    "        columns=[{\"name\": col, \"id\": col} for col in cash_flow.columns],\n",
    "        data=cash_flow.to_dict('records'),\n",
    "        style_table={'overflowX': 'auto'}\n",
    "    ),\n",
    "\n",
    "    html.Hr(),\n",
    "    \n",
    "    # جدول 3: التدفقات النقدية\n",
    "    html.H3(\"قائمة التغيرات في حقوق المساهمين\"),\n",
    "    dash_table.DataTable(\n",
    "        id='equity_statement',\n",
    "        columns=[{\"name\": col, \"id\": col} for col in equity_statement.columns],\n",
    "        data=equity_statement.to_dict('records'),\n",
    "        style_table={'overflowX': 'auto'}\n",
    "    ),\n",
    "\n",
    "    html.Hr(),\n",
    "    \n",
    "    # جدول 3: التدفقات النقدية\n",
    "    html.H3(\"قائمة الدخل الشامل\"),\n",
    "    dash_table.DataTable(\n",
    "        id='comprehensive_income',\n",
    "        columns=[{\"name\": col, \"id\": col} for col in comprehensive_income.columns],\n",
    "        data=comprehensive_income.to_dict('records'),\n",
    "        style_table={'overflowX': 'auto'}\n",
    "    ),\n",
    "\n",
    "    html.Hr(),\n",
    "    \n",
    "    # جدول 3: التدفقات النقدية\n",
    "    html.H3(\"البيانات المالية المجمعة\"),\n",
    "    dash_table.DataTable(\n",
    "        id='consolidated',\n",
    "        columns=[{\"name\": col, \"id\": col} for col in consolidated.columns],\n",
    "        data=consolidated.to_dict('records'),\n",
    "        style_table={'overflowX': 'auto'}\n",
    "    ),\n",
    "\n",
    "    html.Hr(),\n",
    "    \n",
    "    # جدول 3: التدفقات النقدية\n",
    "    html.H3(\"إيضاحات البيانات المالية\"),\n",
    "    dash_table.DataTable(\n",
    "        id='notes',\n",
    "        columns=[{\"name\": col, \"id\": col} for col in notes.columns],\n",
    "        data=notes.to_dict('records'),\n",
    "        style_table={'overflowX': 'auto'}\n",
    "    ),\n",
    "    \n",
    "    # ... يمكنك إضافة المزيد من الجداول بنفس الطريقة\n",
    "])\n",
    "\n",
    "if __name__ == '__main__':\n",
    "    app.run_server(debug=True)"
   ]
  },
  {
   "cell_type": "code",
   "execution_count": 21,
   "id": "34f9e258",
   "metadata": {},
   "outputs": [
    {
     "name": "stdout",
     "output_type": "stream",
     "text": [
      "Collecting dash\n",
      "  Downloading dash-3.1.1-py3-none-any.whl.metadata (10 kB)\n",
      "Collecting Flask<3.2,>=1.0.4 (from dash)\n",
      "  Using cached flask-3.1.1-py3-none-any.whl.metadata (3.0 kB)\n",
      "Collecting Werkzeug<3.2 (from dash)\n",
      "  Using cached werkzeug-3.1.3-py3-none-any.whl.metadata (3.7 kB)\n",
      "Collecting plotly>=5.0.0 (from dash)\n",
      "  Downloading plotly-6.2.0-py3-none-any.whl.metadata (8.5 kB)\n",
      "Collecting importlib-metadata (from dash)\n",
      "  Using cached importlib_metadata-8.7.0-py3-none-any.whl.metadata (4.8 kB)\n",
      "Requirement already satisfied: typing-extensions>=4.1.1 in /Users/a7mad/Desktop/git_lab/self_learning/N8N/n8n/lib/python3.11/site-packages (from dash) (4.14.1)\n",
      "Collecting requests (from dash)\n",
      "  Downloading requests-2.32.4-py3-none-any.whl.metadata (4.9 kB)\n",
      "Collecting retrying (from dash)\n",
      "  Downloading retrying-1.4.0-py3-none-any.whl.metadata (7.5 kB)\n",
      "Requirement already satisfied: nest-asyncio in /Users/a7mad/Desktop/git_lab/self_learning/N8N/n8n/lib/python3.11/site-packages (from dash) (1.6.0)\n",
      "Requirement already satisfied: setuptools in /Users/a7mad/Desktop/git_lab/self_learning/N8N/n8n/lib/python3.11/site-packages (from dash) (65.5.0)\n",
      "Collecting blinker>=1.9.0 (from Flask<3.2,>=1.0.4->dash)\n",
      "  Using cached blinker-1.9.0-py3-none-any.whl.metadata (1.6 kB)\n",
      "Requirement already satisfied: click>=8.1.3 in /Users/a7mad/Desktop/git_lab/self_learning/N8N/n8n/lib/python3.11/site-packages (from Flask<3.2,>=1.0.4->dash) (8.2.1)\n",
      "Collecting itsdangerous>=2.2.0 (from Flask<3.2,>=1.0.4->dash)\n",
      "  Using cached itsdangerous-2.2.0-py3-none-any.whl.metadata (1.9 kB)\n",
      "Collecting jinja2>=3.1.2 (from Flask<3.2,>=1.0.4->dash)\n",
      "  Using cached jinja2-3.1.6-py3-none-any.whl.metadata (2.9 kB)\n",
      "Collecting markupsafe>=2.1.1 (from Flask<3.2,>=1.0.4->dash)\n",
      "  Downloading MarkupSafe-3.0.2-cp311-cp311-macosx_11_0_arm64.whl.metadata (4.0 kB)\n",
      "Collecting narwhals>=1.15.1 (from plotly>=5.0.0->dash)\n",
      "  Downloading narwhals-1.45.0-py3-none-any.whl.metadata (11 kB)\n",
      "Requirement already satisfied: packaging in /Users/a7mad/Desktop/git_lab/self_learning/N8N/n8n/lib/python3.11/site-packages (from plotly>=5.0.0->dash) (25.0)\n",
      "Collecting zipp>=3.20 (from importlib-metadata->dash)\n",
      "  Downloading zipp-3.23.0-py3-none-any.whl.metadata (3.6 kB)\n",
      "Collecting charset_normalizer<4,>=2 (from requests->dash)\n",
      "  Downloading charset_normalizer-3.4.2-cp311-cp311-macosx_10_9_universal2.whl.metadata (35 kB)\n",
      "Requirement already satisfied: idna<4,>=2.5 in /Users/a7mad/Desktop/git_lab/self_learning/N8N/n8n/lib/python3.11/site-packages (from requests->dash) (3.10)\n",
      "Collecting urllib3<3,>=1.21.1 (from requests->dash)\n",
      "  Downloading urllib3-2.5.0-py3-none-any.whl.metadata (6.5 kB)\n",
      "Collecting certifi>=2017.4.17 (from requests->dash)\n",
      "  Downloading certifi-2025.6.15-py3-none-any.whl.metadata (2.4 kB)\n",
      "Downloading dash-3.1.1-py3-none-any.whl (7.9 MB)\n",
      "\u001b[2K   \u001b[90m━━━━━━━━━━━━━━━━━━━━━━━━━━━━━━━━━━━━━━━━\u001b[0m \u001b[32m7.9/7.9 MB\u001b[0m \u001b[31m8.5 MB/s\u001b[0m eta \u001b[36m0:00:00\u001b[0ma \u001b[36m0:00:01\u001b[0m\n",
      "\u001b[?25hUsing cached flask-3.1.1-py3-none-any.whl (103 kB)\n",
      "Using cached werkzeug-3.1.3-py3-none-any.whl (224 kB)\n",
      "Using cached blinker-1.9.0-py3-none-any.whl (8.5 kB)\n",
      "Using cached itsdangerous-2.2.0-py3-none-any.whl (16 kB)\n",
      "Using cached jinja2-3.1.6-py3-none-any.whl (134 kB)\n",
      "Downloading MarkupSafe-3.0.2-cp311-cp311-macosx_11_0_arm64.whl (12 kB)\n",
      "Downloading plotly-6.2.0-py3-none-any.whl (9.6 MB)\n",
      "\u001b[2K   \u001b[90m━━━━━━━━━━━━━━━━━━━━━━━━━━━━━━━━━━━━━━━━\u001b[0m \u001b[32m9.6/9.6 MB\u001b[0m \u001b[31m8.7 MB/s\u001b[0m eta \u001b[36m0:00:00\u001b[0ma \u001b[36m0:00:01\u001b[0m\n",
      "\u001b[?25hDownloading narwhals-1.45.0-py3-none-any.whl (371 kB)\n",
      "Using cached importlib_metadata-8.7.0-py3-none-any.whl (27 kB)\n",
      "Downloading zipp-3.23.0-py3-none-any.whl (10 kB)\n",
      "Downloading requests-2.32.4-py3-none-any.whl (64 kB)\n",
      "Downloading charset_normalizer-3.4.2-cp311-cp311-macosx_10_9_universal2.whl (198 kB)\n",
      "Downloading urllib3-2.5.0-py3-none-any.whl (129 kB)\n",
      "Downloading certifi-2025.6.15-py3-none-any.whl (157 kB)\n",
      "Downloading retrying-1.4.0-py3-none-any.whl (11 kB)\n",
      "Installing collected packages: zipp, urllib3, retrying, narwhals, markupsafe, itsdangerous, charset_normalizer, certifi, blinker, Werkzeug, requests, plotly, jinja2, importlib-metadata, Flask, dash\n",
      "\u001b[2K   \u001b[90m━━━━━━━━━━━━━━━━━━━━━━━━━━━━━━━━━━━━━━━━\u001b[0m \u001b[32m16/16\u001b[0m [dash]2m15/16\u001b[0m [dash]2]g]\n",
      "\u001b[1A\u001b[2KSuccessfully installed Flask-3.1.1 Werkzeug-3.1.3 blinker-1.9.0 certifi-2025.6.15 charset_normalizer-3.4.2 dash-3.1.1 importlib-metadata-8.7.0 itsdangerous-2.2.0 jinja2-3.1.6 markupsafe-3.0.2 narwhals-1.45.0 plotly-6.2.0 requests-2.32.4 retrying-1.4.0 urllib3-2.5.0 zipp-3.23.0\n",
      "Note: you may need to restart the kernel to use updated packages.\n"
     ]
    }
   ],
   "source": [
    "pip install dash "
   ]
  },
  {
   "cell_type": "code",
   "execution_count": null,
   "id": "8bade6e3",
   "metadata": {},
   "outputs": [],
   "source": []
  }
 ],
 "metadata": {
  "kernelspec": {
   "display_name": "n8n",
   "language": "python",
   "name": "python3"
  },
  "language_info": {
   "codemirror_mode": {
    "name": "ipython",
    "version": 3
   },
   "file_extension": ".py",
   "mimetype": "text/x-python",
   "name": "python",
   "nbconvert_exporter": "python",
   "pygments_lexer": "ipython3",
   "version": "3.11.1"
  }
 },
 "nbformat": 4,
 "nbformat_minor": 5
}
